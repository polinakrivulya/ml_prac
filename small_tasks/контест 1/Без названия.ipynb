{
 "cells": [
  {
   "cell_type": "code",
   "execution_count": 35,
   "id": "d7ae817f",
   "metadata": {},
   "outputs": [
    {
     "data": {
      "text/plain": [
       "((2, (3, None, None), (4, None, None)), (5, (6, None, None), (7, None, None)))"
      ]
     },
     "execution_count": 35,
     "metadata": {},
     "output_type": "execute_result"
    }
   ],
   "source": [
    "tup = ((48510, \n",
    "    (2,\n",
    "        (3, None, None),\n",
    "        (4, None, None)\n",
    "    ),\n",
    "    (5,\n",
    "        (6, None, None),\n",
    "        (7, None, None)\n",
    "    )\n",
    ")\n",
    ")\n",
    "tup2 = tup[1:]\n",
    "tup2"
   ]
  },
  {
   "cell_type": "code",
   "execution_count": 39,
   "id": "e38dce54",
   "metadata": {},
   "outputs": [
    {
     "ename": "SyntaxError",
     "evalue": "unexpected EOF while parsing (<ipython-input-39-7abc45470d9b>, line 1)",
     "output_type": "error",
     "traceback": [
      "\u001b[0;36m  File \u001b[0;32m\"<ipython-input-39-7abc45470d9b>\"\u001b[0;36m, line \u001b[0;32m1\u001b[0m\n\u001b[0;31m    while True:\u001b[0m\n\u001b[0m               ^\u001b[0m\n\u001b[0;31mSyntaxError\u001b[0m\u001b[0;31m:\u001b[0m unexpected EOF while parsing\n"
     ]
    }
   ],
   "source": [
    "\n",
    "while True:\n",
    "    list"
   ]
  },
  {
   "cell_type": "code",
   "execution_count": null,
   "id": "a3387db3",
   "metadata": {},
   "outputs": [],
   "source": []
  },
  {
   "cell_type": "code",
   "execution_count": null,
   "id": "eeaf920e",
   "metadata": {},
   "outputs": [],
   "source": []
  },
  {
   "cell_type": "code",
   "execution_count": null,
   "id": "fe96a418",
   "metadata": {},
   "outputs": [],
   "source": []
  },
  {
   "cell_type": "code",
   "execution_count": null,
   "id": "eafe1f2d",
   "metadata": {},
   "outputs": [],
   "source": []
  }
 ],
 "metadata": {
  "kernelspec": {
   "display_name": "Python 3",
   "language": "python",
   "name": "python3"
  },
  "language_info": {
   "codemirror_mode": {
    "name": "ipython",
    "version": 3
   },
   "file_extension": ".py",
   "mimetype": "text/x-python",
   "name": "python",
   "nbconvert_exporter": "python",
   "pygments_lexer": "ipython3",
   "version": "3.8.8"
  }
 },
 "nbformat": 4,
 "nbformat_minor": 5
}
